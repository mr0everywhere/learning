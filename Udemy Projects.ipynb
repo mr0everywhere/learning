{
 "cells": [
  {
   "cell_type": "code",
   "execution_count": 10,
   "metadata": {},
   "outputs": [
    {
     "name": "stdout",
     "output_type": "stream",
     "text": [
      "Welcome to the letter counter app.\n",
      "What is your name? Robert\n",
      "Hello Robert!\n",
      "I will count the number of times that a specific character occurs in a message.\n",
      "\n",
      "Please enter a message: I don't want to re'ad anything like thi's\n",
      "Which character would you like to count? '\n",
      "Robert your message has 3 ''s in it\n"
     ]
    }
   ],
   "source": [
    "#From the art of doing ebook by Michael Eramo\n",
    "#letter counter in a string\n",
    "\n",
    "print(\"Welcome to the letter counter app.\")\n",
    "name = input(\"What is your name? \")\n",
    "print(\"Hello \" + name + \"!\")\n",
    "print(\"I will count the number of times that a specific character occurs in a message.\\n\")\n",
    "message = input(\"Please enter a message: \")\n",
    "letter = input(\"Which character would you like to count? \")\n",
    "\n",
    "message = message.lower()\n",
    "#print(message)\n",
    "letter = letter.lower()\n",
    "letterCount = message.count(letter)\n",
    "print(name + \" your message has \" + str(letterCount) + \" \" + letter + \"'s in it\")\n",
    "\n",
    "\n"
   ]
  },
  {
   "cell_type": "code",
   "execution_count": null,
   "metadata": {},
   "outputs": [],
   "source": []
  },
  {
   "cell_type": "code",
   "execution_count": null,
   "metadata": {},
   "outputs": [],
   "source": []
  }
 ],
 "metadata": {
  "kernelspec": {
   "display_name": "Python 3",
   "language": "python",
   "name": "python3"
  },
  "language_info": {
   "codemirror_mode": {
    "name": "ipython",
    "version": 3
   },
   "file_extension": ".py",
   "mimetype": "text/x-python",
   "name": "python",
   "nbconvert_exporter": "python",
   "pygments_lexer": "ipython3",
   "version": "3.7.4"
  }
 },
 "nbformat": 4,
 "nbformat_minor": 2
}
