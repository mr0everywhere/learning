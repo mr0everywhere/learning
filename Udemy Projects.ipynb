{
 "cells": [
  {
   "cell_type": "code",
   "execution_count": null,
   "metadata": {},
   "outputs": [],
   "source": [
    "#From the art of doing ebook by Michael Eramo\n",
    "#letter counter in a string\n",
    "\n",
    "print(\"Welcome to the letter counter app.\")\n",
    "name = input(\"What is your name? \")\n",
    "print(\"Hello \" + name + \"!\")\n",
    "print(\"I will count the number of times that a specific character occurs in a message.\\n\")\n",
    "message = input(\"Please enter a message: \")\n",
    "letter = input(\"Which character would you like to count? \")\n",
    "\n",
    "message = message.lower()\n",
    "#print(message)\n",
    "letter = letter.lower()\n",
    "letterCount = message.count(letter)\n",
    "print(name + \" your message has \" + str(letterCount) + \" \" + letter + \"'s in it\")\n",
    "\n",
    "\n"
   ]
  },
  {
   "cell_type": "code",
   "execution_count": null,
   "metadata": {},
   "outputs": [],
   "source": [
    "#MPH to mps converter\n",
    "\n",
    "print('Welcome to the Miles per Hour Conversion App')\n",
    "\n",
    "mph = input(\"What is your speed in miles per hour? \")\n",
    "ms = float(mph)*0.4474\n",
    "ms = round(ms,2)\n",
    "print(\"Your speed in meters per second is \" + str(ms) + \".\")"
   ]
  },
  {
   "cell_type": "code",
   "execution_count": null,
   "metadata": {},
   "outputs": [],
   "source": [
    "#temperature converter\n",
    "\n",
    "print(\"welcome to the temperature conversion app\\n\")\n",
    "\n",
    "degF = round(float(input(\"What is the given temp in deg F? \")),4)\n",
    "degC = round((degF - 32)*5/9,4)\n",
    "degK = round(degC + 273.15,4)\n",
    "\n",
    "print('\\nDegrees Fahrenheit:\\t' + str(degF))\n",
    "print('Degrees Celsius:\\t' + str(degC))\n",
    "print('Degrees Kelvin:\\t\\t' + str(degK))"
   ]
  },
  {
   "cell_type": "code",
   "execution_count": null,
   "metadata": {},
   "outputs": [],
   "source": [
    "from math import sqrt as sqrt\n",
    "print('Welcome to the right triangle solver app\\n')\n",
    "\n",
    "sideA = float(input('What is the first leg of your triangle? '))\n",
    "sideB = float(input('What is the second leg of your triangle? '))\n",
    "hyp = round(sqrt(sideA**2 + sideB**2),3)\n",
    "area = round(sideA*sideB/2,3)\n",
    "\n",
    "print('\\nFor a triangle with sides %.3f and %.3f the hypotenuse is %.3f\\nand the area is %.3f'%(sideA,sideB,hyp,area))\n"
   ]
  },
  {
   "cell_type": "code",
   "execution_count": null,
   "metadata": {},
   "outputs": [],
   "source": []
  }
 ],
 "metadata": {
  "kernelspec": {
   "display_name": "Python 3",
   "language": "python",
   "name": "python3"
  },
  "language_info": {
   "codemirror_mode": {
    "name": "ipython",
    "version": 3
   },
   "file_extension": ".py",
   "mimetype": "text/x-python",
   "name": "python",
   "nbconvert_exporter": "python",
   "pygments_lexer": "ipython3",
   "version": "3.7.4"
  }
 },
 "nbformat": 4,
 "nbformat_minor": 2
}
